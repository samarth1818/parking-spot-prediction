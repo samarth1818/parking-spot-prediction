{
 "cells": [
  {
   "cell_type": "code",
   "execution_count": 132,
   "metadata": {},
   "outputs": [
    {
     "data": {
      "text/plain": [
       "DatetimeIndex(['2018-02-18 21:00:00', '2018-02-18 22:00:00',\n",
       "               '2018-02-18 23:00:00', '2018-02-19 00:00:00',\n",
       "               '2018-02-19 01:00:00', '2018-02-19 02:00:00',\n",
       "               '2018-02-19 03:00:00', '2018-02-19 04:00:00',\n",
       "               '2018-02-19 05:00:00', '2018-02-19 06:00:00',\n",
       "               '2018-02-19 07:00:00', '2018-02-19 08:00:00',\n",
       "               '2018-02-19 09:00:00', '2018-02-19 10:00:00',\n",
       "               '2018-02-19 11:00:00', '2018-02-19 12:00:00',\n",
       "               '2018-02-19 13:00:00', '2018-02-19 14:00:00',\n",
       "               '2018-02-19 15:00:00', '2018-02-19 16:00:00',\n",
       "               '2018-02-19 17:00:00', '2018-02-19 18:00:00',\n",
       "               '2018-02-19 19:00:00', '2018-02-19 20:00:00',\n",
       "               '2018-02-19 21:00:00', '2018-02-19 22:00:00',\n",
       "               '2018-02-19 23:00:00', '2018-02-20 00:00:00',\n",
       "               '2018-02-20 01:00:00', '2018-02-20 02:00:00',\n",
       "               '2018-02-20 03:00:00', '2018-02-20 04:00:00',\n",
       "               '2018-02-20 05:00:00', '2018-02-20 06:00:00',\n",
       "               '2018-02-20 07:00:00', '2018-02-20 08:00:00',\n",
       "               '2018-02-20 09:00:00', '2018-02-20 10:00:00',\n",
       "               '2018-02-20 11:00:00', '2018-02-20 12:00:00',\n",
       "               '2018-02-20 13:00:00', '2018-02-20 14:00:00',\n",
       "               '2018-02-20 15:00:00', '2018-02-20 16:00:00',\n",
       "               '2018-02-20 17:00:00', '2018-02-20 18:00:00',\n",
       "               '2018-02-20 19:00:00', '2018-02-20 20:00:00',\n",
       "               '2018-02-20 21:00:00', '2018-02-20 22:00:00',\n",
       "               '2018-02-20 23:00:00', '2018-02-21 00:00:00',\n",
       "               '2018-02-21 01:00:00', '2018-02-21 02:00:00',\n",
       "               '2018-02-21 03:00:00', '2018-02-21 04:00:00',\n",
       "               '2018-02-21 05:00:00', '2018-02-21 06:00:00',\n",
       "               '2018-02-21 07:00:00', '2018-02-21 08:00:00',\n",
       "               '2018-02-21 09:00:00', '2018-02-21 10:00:00',\n",
       "               '2018-02-21 11:00:00', '2018-02-21 12:00:00',\n",
       "               '2018-02-21 13:00:00', '2018-02-21 14:00:00',\n",
       "               '2018-02-21 15:00:00', '2018-02-21 16:00:00',\n",
       "               '2018-02-21 17:00:00', '2018-02-21 18:00:00',\n",
       "               '2018-02-21 19:00:00', '2018-02-21 20:00:00',\n",
       "               '2018-02-21 21:00:00', '2018-02-21 22:00:00',\n",
       "               '2018-02-21 23:00:00', '2018-02-22 00:00:00',\n",
       "               '2018-02-22 01:00:00', '2018-02-22 02:00:00',\n",
       "               '2018-02-22 03:00:00', '2018-02-22 04:00:00',\n",
       "               '2018-02-22 05:00:00', '2018-02-22 06:00:00',\n",
       "               '2018-02-22 07:00:00', '2018-02-22 08:00:00',\n",
       "               '2018-02-22 09:00:00', '2018-02-22 10:00:00',\n",
       "               '2018-02-22 11:00:00', '2018-02-22 12:00:00',\n",
       "               '2018-02-22 13:00:00', '2018-02-22 14:00:00',\n",
       "               '2018-02-22 15:00:00', '2018-02-22 16:00:00',\n",
       "               '2018-02-22 17:00:00', '2018-02-22 18:00:00',\n",
       "               '2018-02-22 19:00:00', '2018-02-22 20:00:00',\n",
       "               '2018-02-22 21:00:00', '2018-02-22 22:00:00',\n",
       "               '2018-02-22 23:00:00', '2018-02-23 00:00:00'],\n",
       "              dtype='datetime64[ns]', name='date_time', freq=None)"
      ]
     },
     "execution_count": 132,
     "metadata": {},
     "output_type": "execute_result"
    }
   ],
   "source": [
    "import pandas as pd\n",
    "import numpy as np\n",
    "\n",
    "df =pd.read_csv('hourly_data.csv', index_col = ['date_time'], parse_dates=['date_time'])\n",
    "# df.head()\n",
    "len(df)\n",
    "\n",
    "df.iloc[-100:].index"
   ]
  },
  {
   "cell_type": "code",
   "execution_count": 16,
   "metadata": {},
   "outputs": [],
   "source": [
    "beta = df.groupby([df.index.hour]).mean()\n",
    "beta = beta['available_spots']\n",
    "beta = list(beta)\n",
    "theta = df.groupby([df.index.dayofweek]).mean()\n",
    "theta = theta['available_spots']\n",
    "theta = list(theta)"
   ]
  },
  {
   "cell_type": "code",
   "execution_count": 130,
   "metadata": {},
   "outputs": [
    {
     "ename": "AttributeError",
     "evalue": "'numpy.ndarray' object has no attribute 'index'",
     "output_type": "error",
     "traceback": [
      "\u001b[0;31m---------------------------------------------------------------------------\u001b[0m",
      "\u001b[0;31mAttributeError\u001b[0m                            Traceback (most recent call last)",
      "\u001b[0;32m<ipython-input-130-33611f71809d>\u001b[0m in \u001b[0;36m<module>\u001b[0;34m()\u001b[0m\n\u001b[1;32m      3\u001b[0m \u001b[0my\u001b[0m \u001b[0;34m=\u001b[0m \u001b[0mnp\u001b[0m\u001b[0;34m.\u001b[0m\u001b[0marray\u001b[0m\u001b[0;34m(\u001b[0m\u001b[0mdata\u001b[0m\u001b[0;34m[\u001b[0m\u001b[0;34m'y'\u001b[0m\u001b[0;34m]\u001b[0m\u001b[0;34m)\u001b[0m\u001b[0;34m\u001b[0m\u001b[0m\n\u001b[1;32m      4\u001b[0m \u001b[0;34m\u001b[0m\u001b[0m\n\u001b[0;32m----> 5\u001b[0;31m \u001b[0my\u001b[0m\u001b[0;34m[\u001b[0m\u001b[0;34m:\u001b[0m\u001b[0;36m3000\u001b[0m\u001b[0;34m]\u001b[0m\u001b[0;34m.\u001b[0m\u001b[0mindex\u001b[0m\u001b[0;34m\u001b[0m\u001b[0m\n\u001b[0m",
      "\u001b[0;31mAttributeError\u001b[0m: 'numpy.ndarray' object has no attribute 'index'"
     ]
    }
   ],
   "source": [
    "data = pd.read_csv('hourly_data.csv', index_col=['date_time'], parse_dates=['date_time'])\n",
    "X = np.array(data['X'])\n",
    "y = np.array(data['y'])\n"
   ]
  },
  {
   "cell_type": "code",
   "execution_count": 136,
   "metadata": {},
   "outputs": [],
   "source": [
    "empty_list = [] \n",
    "features = []\n",
    "for i in range(11):\n",
    "    features.append(list(empty_list))\n",
    "for index,row in data.iterrows():\n",
    "    features[0].append(row['X'])\n",
    "    hour = index.hour\n",
    "#     print(index)\n",
    "    day_week = index.dayofweek\n",
    "    n = int(hour/4) +1\n",
    "    features[n].append(1)\n",
    "    if day_week >4 : \n",
    "        features[10].append(1)\n",
    "        features[9].append(0)\n",
    "    else: \n",
    "        features[9].append(1)\n",
    "        features[10].append(0)\n",
    "    for i in range(1,9):\n",
    "        if i != n:\n",
    "            features[i].append(0)\n",
    "colum_names = ['X0','x1','x2','x3','x4','x5','x6','x7','x8','x9','x10']\n",
    "new_cols = np.column_stack(features)"
   ]
  },
  {
   "cell_type": "code",
   "execution_count": 143,
   "metadata": {},
   "outputs": [
    {
     "data": {
      "text/plain": [
       "(3651, 3000, 651)"
      ]
     },
     "execution_count": 143,
     "metadata": {},
     "output_type": "execute_result"
    }
   ],
   "source": [
    "X_train = new_cols[:3000]\n",
    "X_test = new_cols[3000:]\n",
    "len(new_cols),len(train),len(test)"
   ]
  },
  {
   "cell_type": "code",
   "execution_count": 145,
   "metadata": {},
   "outputs": [
    {
     "name": "stdout",
     "output_type": "stream",
     "text": [
      "[  0.93135538   9.29142826   3.59417618   2.27805815 -10.39134137\n",
      "  -9.56524428   4.79292306   0.           0.           0.09363064\n",
      "  -0.09363064] 8.5080803479\n"
     ]
    },
    {
     "data": {
      "text/plain": [
       "0.93324173872445015"
      ]
     },
     "execution_count": 145,
     "metadata": {},
     "output_type": "execute_result"
    }
   ],
   "source": [
    "from sklearn import datasets, linear_model\n",
    "from sklearn.metrics import mean_squared_error, r2_score\n",
    "import numpy as np\n",
    "\n",
    "y_train = y[:3000]\n",
    "y_test = y[3000:]\n",
    "regr = linear_model.LinearRegression()\n",
    "regr.fit(X_train, y_train)\n",
    "print(regr.coef_,regr.intercept_)\n",
    "y_pred = regr.predict(X_test)\n",
    "regr.score(X_test,y_test)"
   ]
  },
  {
   "cell_type": "code",
   "execution_count": 165,
   "metadata": {},
   "outputs": [
    {
     "data": {
      "image/png": "[encoded data removed]",
      "text/plain": [
       "<matplotlib.figure.Figure at 0x7f7303e165f8>"
      ]
     },
     "metadata": {},
     "output_type": "display_data"
    }
   ],
   "source": [
    "def rms(actual,predicted):\n",
    "    return sqrt(mean_squared_error(actual, predicted))\n",
    "\n",
    "def r2(actual,predicted):\n",
    "    mean_actual = np.mean(actual)\n",
    "    actual = np.array(actual)\n",
    "    predicted = np.array(predicted)\n",
    "    rss = np.sum((actual-predicted)**2)\n",
    "    tss = np.sum((actual-mean_actual)**2)\n",
    "    final = 1 - (rss/tss)\n",
    "    return final\n",
    "\n",
    "def accuracy_tolerance(act_set,pred_set, tolerance=10.0):\n",
    "    if len(pred_set) != len(act_set):\n",
    "        raise ValueError('prediction and actual set lengths dont match')\n",
    "    \n",
    "    n = len(pred_set)\n",
    "    count = 0\n",
    "    for i in range(n):\n",
    "        if abs(pred_set[i] - act_set[i]) <= tolerance: count += 1\n",
    "    acc = float(count) / float(n)\n",
    "    return acc\n",
    "\n",
    "def calculate_accuracy(actual, predicted,model_name='No Name'):\n",
    "    d = {}\n",
    "    d['name'] = model_name\n",
    "    d['r2'] = r2(actual,predicted)\n",
    "    d['tol'] = accuracy_tolerance(actual,predicted)\n",
    "    d['rms'] = rms(actual,predicted)\n",
    "    return d\n",
    "\n",
    "def plot_graph(y_act, y_pred):\n",
    "    # y_pred : 1D array predicted values\n",
    "    # y_act : 1D array actual values\n",
    "    if (len(y_act)!=100):\n",
    "        raise ValueError('Test set should contain 100 values only')\n",
    "    if (len(y_pred) != len(y_act)):\n",
    "        raise ValueError('actual and predicted values dont have the same lengths')\n",
    "        \n",
    "    x = [i for i in range(len(y_pred))]\n",
    "    plt.figure(figsize=(8, 4))\n",
    "    plt.plot(x, y_pred, 'r-', label='Predicted')\n",
    "    plt.plot(x, y_act, 'b-', label='Actual')\n",
    "    axes = plt.gca()\n",
    "    axes.set_ylim([0, 200])\n",
    "    plt.ylabel('available spots')\n",
    "    plt.xlabel('time')\n",
    "    plt.legend(loc='best')\n",
    "#     plt.xticks(x)\n",
    "    plt.legend()\n",
    "    plt.show()\n",
    "    \n",
    "\n",
    "plot_graph(y_pred[-100:],y_test[-100:])"
   ]
  },
  {
   "cell_type": "code",
   "execution_count": 112,
   "metadata": {},
   "outputs": [
    {
     "data": {
      "image/png": "[encoded data removed]",
      "text/plain": [
       "<matplotlib.figure.Figure at 0x7f72ee933048>"
      ]
     },
     "metadata": {},
     "output_type": "display_data"
    }
   ],
   "source": [
    "import matplotlib.pyplot as plt\n",
    "%matplotlib inline\n",
    "\n",
    "\n",
    "plt.plot(y[:10])\n",
    "plt.plot(y_pred[:10] , color='red')\n",
    "plt.show()"
   ]
  },
  {
   "cell_type": "code",
   "execution_count": 113,
   "metadata": {},
   "outputs": [
    {
     "name": "stdout",
     "output_type": "stream",
     "text": [
      "11.554720089280151\n"
     ]
    }
   ],
   "source": [
    "from math import sqrt\n",
    "from sklearn.metrics import mean_squared_error\n",
    "\n",
    "rms = sqrt(mean_squared_error(y, y_pred))\n",
    "print(rms)"
   ]
  },
  {
   "cell_type": "code",
   "execution_count": 123,
   "metadata": {},
   "outputs": [
    {
     "name": "stdout",
     "output_type": "stream",
     "text": [
      "0.7502054231717338\n"
     ]
    },
    {
     "data": {
      "image/png": "[encoded data removed]",
      "text/plain": [
       "<matplotlib.figure.Figure at 0x7f72eeddbf28>"
      ]
     },
     "metadata": {},
     "output_type": "display_data"
    }
   ],
   "source": [
    "def calc_accuracy(pred_set, act_set, tolerance=5.0):\n",
    "    if len(pred_set) != len(act_set):\n",
    "        raise ValueError('prediction and actual set lengths dont match')\n",
    "    \n",
    "    n = len(pred_set)\n",
    "    count = 0\n",
    "    dev_act = []\n",
    "    dev_pred = []\n",
    "    i_set = []\n",
    "    for i in range(n):\n",
    "        if abs(pred_set[i] - act_set[i]) <= tolerance: \n",
    "            count += 1\n",
    "        else:\n",
    "            dev_act.append(act_set[i])\n",
    "            dev_pred.append(pred_set[i])\n",
    "            i_set.append(i)\n",
    "    acc = float(count) / float(n)\n",
    "    return acc, dev_act, dev_pred, i_set\n",
    "\n",
    "acc, dev_act, dev_pred, i_set = calc_accuracy(y_pred, y, 10)\n",
    "\n",
    "print(acc)\n",
    "\n",
    "import matplotlib.pyplot as plt\n",
    "%matplotlib inline\n",
    "\n",
    "\n",
    "plt.plot(np.subtract(y_pred[:100], y[:100]))\n",
    "plt.show()"
   ]
  },
  {
   "cell_type": "code",
   "execution_count": 142,
   "metadata": {},
   "outputs": [
    {
     "name": "stdout",
     "output_type": "stream",
     "text": [
      "[ 0.94213464] 7.17819134841\n"
     ]
    },
    {
     "data": {
      "text/plain": [
       "1.0"
      ]
     },
     "execution_count": 142,
     "metadata": {},
     "output_type": "execute_result"
    }
   ],
   "source": [
    "from sklearn import datasets, linear_model\n",
    "from sklearn.metrics import mean_squared_error, r2_score\n",
    "import numpy as np\n",
    "\n",
    "X = np.array(X)\n",
    "X = np.reshape(X,(-1,1))\n",
    "\n",
    "X_train = X[:3000]\n",
    "y_train = y[:3000]\n",
    "X_test = X[3000:]\n",
    "y_test = y[3000:]\n",
    "\n",
    "\n",
    "regr = linear_model.LinearRegression()\n",
    "regr.fit(X_train, y_train)\n",
    "print(regr.coef_,regr.intercept_)\n",
    "y_pred = regr.predict(X_test)\n",
    "regr.score(X_test,y_pred)"
   ]
  },
  {
   "cell_type": "code",
   "execution_count": 80,
   "metadata": {},
   "outputs": [
    {
     "name": "stdout",
     "output_type": "stream",
     "text": [
      "14.496886493118431\n"
     ]
    }
   ],
   "source": [
    "from math import sqrt\n",
    "from sklearn.metrics import mean_squared_error\n",
    "\n",
    "rms = sqrt(mean_squared_error(y_test, y_pred))\n",
    "print(rms)"
   ]
  }
 ],
 "metadata": {
  "kernelspec": {
   "display_name": "Python 3",
   "language": "python",
   "name": "python3"
  },
  "language_info": {
   "codemirror_mode": {
    "name": "ipython",
    "version": 3
   },
   "file_extension": ".py",
   "mimetype": "text/x-python",
   "name": "python",
   "nbconvert_exporter": "python",
   "pygments_lexer": "ipython3",
   "version": "3.6.3"
  }
 },
 "nbformat": 4,
 "nbformat_minor": 2
}
