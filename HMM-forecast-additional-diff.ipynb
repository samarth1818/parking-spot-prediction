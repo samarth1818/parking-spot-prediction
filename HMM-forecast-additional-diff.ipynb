{
 "cells": [
  {
   "cell_type": "code",
   "execution_count": 164,
   "metadata": {},
   "outputs": [],
   "source": [
    "from hmmlearn import hmm\n",
    "import numpy as np\n",
    "import pandas as pd\n",
    "import utility_functions as utf"
   ]
  },
  {
   "cell_type": "code",
   "execution_count": 156,
   "metadata": {},
   "outputs": [],
   "source": [
    "def prepare_parking_spots_data(ds):\n",
    "    # prepare hourly differences\n",
    "    diff = list(ds)\n",
    "    diff2 = list(ds)\n",
    "    diff[1] -= diff[0]\n",
    "    diff2[1] -= diff2[0]\n",
    "    for i in range(2, len(diff)):\n",
    "        diff[i] -= ds[i-1]\n",
    "        diff2[i] -= ds[i-2]\n",
    "    return np.column_stack([ds, diff, diff2])"
   ]
  },
  {
   "cell_type": "code",
   "execution_count": 157,
   "metadata": {},
   "outputs": [
    {
     "data": {
      "text/plain": [
       "GMMHMM(algorithm='map', covariance_type='diag',\n",
       "    covars_prior=array([[[-1.5, -1.5, -1.5],\n",
       "        [-1.5, -1.5, -1.5]],\n",
       "\n",
       "       [[-1.5, -1.5, -1.5],\n",
       "        [-1.5, -1.5, -1.5]],\n",
       "\n",
       "       [[-1.5, -1.5, -1.5],\n",
       "        [-1.5, -1.5, -1.5]]]),\n",
       "    covars_weight=array([[[ 0.,  0.,  0.],\n",
       "        [ 0.,  0.,  0.]],\n",
       "\n",
       "       [[ 0.,  0.,  0.],\n",
       "        [ 0.,  0.,  0.]],\n",
       "\n",
       "       [[ 0.,  0.,  0.],\n",
       "        [ 0.,  0.,  0.]]]),\n",
       "    init_params='stmcw',\n",
       "    means_prior=array([[[ 0.,  0.,  0.],\n",
       "        [ 0.,  0.,  0.]],\n",
       "\n",
       "       [[ 0.,  0.,  0.],\n",
       "        [ 0.,  0.,  0.]],\n",
       "\n",
       "       [[ 0.,  0.,  0.],\n",
       "        [ 0.,  0.,  0.]]]),\n",
       "    means_weight=array([[ 0.,  0.],\n",
       "       [ 0.,  0.],\n",
       "       [ 0.,  0.]]),\n",
       "    min_covar=0.001, n_components=3, n_iter=10, n_mix=2, params='stmcw',\n",
       "    random_state=None, startprob_prior=1.0, tol=0.01, transmat_prior=1.0,\n",
       "    verbose=False,\n",
       "    weights_prior=array([[ 1.,  1.],\n",
       "       [ 1.,  1.],\n",
       "       [ 1.,  1.]]))"
      ]
     },
     "execution_count": 157,
     "metadata": {},
     "output_type": "execute_result"
    }
   ],
   "source": [
    "# parking lot 2 data\n",
    "total_capacity = 161\n",
    "df = pd.read_csv('hourly_data.csv')\n",
    "available_spots_ = df.get('X').values\n",
    "actual_values = df.get('y').values\n",
    "available_spots = prepare_parking_spots_data(available_spots_)\n",
    "\n",
    "# model parameters\n",
    "latency = 3\n",
    "gmm_components = 2\n",
    "hmm_components = 3\n",
    "\n",
    "# train-test parameters\n",
    "split_at = -100\n",
    "forecast_diff = 1\n",
    "X_train = available_spots[:split_at]\n",
    "X_test = available_spots[(split_at-latency):]\n",
    "Y_train = actual_values[:split_at]\n",
    "Y_test = actual_values[split_at:]\n",
    "\n",
    "model = hmm.GMMHMM(n_components=hmm_components,\n",
    "                  n_mix = gmm_components,\n",
    "                  algorithm='map')\n",
    "model.fit(X_train)"
   ]
  },
  {
   "cell_type": "code",
   "execution_count": 158,
   "metadata": {},
   "outputs": [],
   "source": [
    "def predict_next_seq_node(model, latent_seq, total_capacity):\n",
    "    best_pred_score = float('-inf')\n",
    "    best_pred = 0\n",
    "    for k in range(total_capacity+1):\n",
    "        seq = latent_seq[:]\n",
    "        seq = np.insert(seq, len(seq), np.array([k, (k-latent_seq[-1][0]), (k-latent_seq[-2][0])]), axis=0)\n",
    "        pred_score = model.score(seq)\n",
    "        if pred_score > best_pred_score:\n",
    "            best_pred_score = pred_score\n",
    "            best_pred = k\n",
    "    pred_set = [best_pred, best_pred_score]\n",
    "    return pred_set\n",
    "    \n",
    "def test_model(model, latency, total_capacity, testset):\n",
    "    predictions = []\n",
    "    milestones = 1.0\n",
    "    print('completion: ', end='')\n",
    "    for i in range(latency, len(testset)):\n",
    "        # prepare latent sequence\n",
    "        latent_seq = testset[(i-latency):i]\n",
    "        predictions.append(predict_next_seq_node(model, latent_seq, total_capacity)[0])\n",
    "        completed = (float(i-latency+1) / float(len(testset) - latency)) * 100.00\n",
    "        if completed >= milestones:\n",
    "            print('#', end=' ')\n",
    "            milestones += 1.0\n",
    "    print('done!')\n",
    "    return predictions"
   ]
  },
  {
   "cell_type": "code",
   "execution_count": 159,
   "metadata": {},
   "outputs": [
    {
     "name": "stdout",
     "output_type": "stream",
     "text": [
      "completion: # # # # # # # # # # # # # # # # # # # # # # # # # # # # # # # # # # # # # # # # # # # # # # # # # # # # # # # # # # # # # # # # # # # # # # # # # # # # # # # # # # # # # # # # # # # # # # # # # # # done!\n"
     ]
    }
   ],
   "source": [
    "Z = test_model(model, latency, total_capacity, X_test)"
   ]
  },
  {
   "cell_type": "code",
   "execution_count": 160,
   "metadata": {},
   "outputs": [
    {
     "name": "stdout",
     "output_type": "stream",
     "text": [
      "rms error = 25.673916724956477\n"
     ]
    }
   ],
   "source": [
    "from sklearn.metrics import mean_squared_error\n",
    "import math\n",
    "\n",
    "rms_error = math.sqrt(mean_squared_error(Z, Y_test))\n",
    "\n",
    "print('rms error =', rms_error)"
   ]
  },
  {
   "cell_type": "code",
   "execution_count": 161,
   "metadata": {},
   "outputs": [],
   "source": [
    "# %matplotlib inline\n",
    "import matplotlib.pyplot as plt\n",
    "\n",
    "\n",
    "def plot_graph(y_pred, y_act):\n",
    "    # y_pred : 1D array predicted values\n",
    "    # y_act : 1D array actual values\n",
    "    \n",
    "    if (len(y_pred) != len(y_act)):\n",
    "        raise ValueError('actual and predicted values dont have the same lengths')\n",
    "        \n",
    "    x = [i for i in range(len(y_pred))]\n",
    "    plt.figure(figsize=(8, 4))\n",
    "    plt.plot(x, y_pred, 'r-', label='Predicted')\n",
    "    plt.plot(x, y_act, 'b-', label='Actual')\n",
    "#     plt.plot(x, X_test[5:,0], 'g-', label='Test')\n",
    "    axes = plt.gca()\n",
    "    axes.set_ylim([0, 200])\n",
    "    plt.ylabel('available spots')\n",
    "    plt.xlabel('time')\n",
    "    plt.legend()\n",
    "    plt.show()"
   ]
  },
  {
   "cell_type": "code",
   "execution_count": 173,
   "metadata": {},
   "outputs": [
    {
     "data": {
      "image/png": "[encoded data removed]",
      "text/plain": [
       "<matplotlib.figure.Figure at 0x1c55e705278>"
      ]
     },
     "metadata": {},
     "output_type": "display_data"
    }
   ],
   "source": [
    "utf.plot_graph(Z, Y_test)"
   ]
  },
  {
   "cell_type": "code",
   "execution_count": 171,
   "metadata": {},
   "outputs": [
    {
     "data": {
      "text/plain": [
       "{'name': 'No Name',\n",
       " 'r2': 0.69902204424373671,\n",
       " 'rms': 25.673916724956477,\n",
       " 'tol': 0.57}"
      ]
     },
     "execution_count": 171,
     "metadata": {},
     "output_type": "execute_result"
    }
   ],
   "source": [
    "utf.calculate_accuracy(Z,Y_test)"
   ]
  },
  {
   "cell_type": "code",
   "execution_count": null,
   "metadata": {},
   "outputs": [],
   "source": []
  }
 ],
 "metadata": {
  "kernelspec": {
   "display_name": "Python 3",
   "language": "python",
   "name": "python3"
  },
  "language_info": {
   "codemirror_mode": {
    "name": "ipython",
    "version": 3
   },
   "file_extension": ".py",
   "mimetype": "text/x-python",
   "name": "python",
   "nbconvert_exporter": "python",
   "pygments_lexer": "ipython3",
   "version": "3.6.4"
  }
 },
 "nbformat": 4,
 "nbformat_minor": 2
}
